{
  "nbformat": 4,
  "nbformat_minor": 0,
  "metadata": {
    "colab": {
      "name": "Untitled13.ipynb",
      "provenance": [],
      "authorship_tag": "ABX9TyOeMMc+VsVZPzS7CUxLf5h5",
      "include_colab_link": true
    },
    "kernelspec": {
      "name": "python3",
      "display_name": "Python 3"
    }
  },
  "cells": [
    {
      "cell_type": "markdown",
      "metadata": {
        "id": "view-in-github",
        "colab_type": "text"
      },
      "source": [
        "<a href=\"https://colab.research.google.com/github/rebeldose/onop/blob/master/Untitled13.ipynb\" target=\"_parent\"><img src=\"https://colab.research.google.com/assets/colab-badge.svg\" alt=\"Open In Colab\"/></a>"
      ]
    },
    {
      "cell_type": "code",
      "metadata": {
        "colab": {
          "base_uri": "https://localhost:8080/"
        },
        "id": "z2kqqS0JDngx",
        "outputId": "8690c146-2249-489c-dce8-a0e1d1e4c50c"
      },
      "source": [
        "2**3"
      ],
      "execution_count": 1,
      "outputs": [
        {
          "output_type": "execute_result",
          "data": {
            "text/plain": [
              "8"
            ]
          },
          "metadata": {
            "tags": []
          },
          "execution_count": 1
        }
      ]
    },
    {
      "cell_type": "code",
      "metadata": {
        "colab": {
          "base_uri": "https://localhost:8080/",
          "height": 36
        },
        "id": "vEPAddITD6eB",
        "outputId": "4257fde4-bff1-4a5c-a5bf-ac3d2785585d"
      },
      "source": [
        "d = \"wow\" +\" thats amazing\"\r\n",
        "d"
      ],
      "execution_count": 3,
      "outputs": [
        {
          "output_type": "execute_result",
          "data": {
            "application/vnd.google.colaboratory.intrinsic+json": {
              "type": "string"
            },
            "text/plain": [
              "'wow thats amazing'"
            ]
          },
          "metadata": {
            "tags": []
          },
          "execution_count": 3
        }
      ]
    },
    {
      "cell_type": "code",
      "metadata": {
        "colab": {
          "base_uri": "https://localhost:8080/"
        },
        "id": "7qrwH5XgF2_f",
        "outputId": "63bd8526-c393-40e7-bcc3-8fe843d62966"
      },
      "source": [
        "type(d)"
      ],
      "execution_count": 4,
      "outputs": [
        {
          "output_type": "execute_result",
          "data": {
            "text/plain": [
              "str"
            ]
          },
          "metadata": {
            "tags": []
          },
          "execution_count": 4
        }
      ]
    },
    {
      "cell_type": "code",
      "metadata": {
        "colab": {
          "base_uri": "https://localhost:8080/"
        },
        "id": "5NiXzoJyHe83",
        "outputId": "9069bb3e-31ec-4884-f95b-ddbe8e38a444"
      },
      "source": [
        "w = \"12\"\r\n",
        "w = int(w)\r\n",
        "print(w+1)"
      ],
      "execution_count": 6,
      "outputs": [
        {
          "output_type": "stream",
          "text": [
            "13\n"
          ],
          "name": "stdout"
        }
      ]
    },
    {
      "cell_type": "code",
      "metadata": {
        "colab": {
          "base_uri": "https://localhost:8080/"
        },
        "id": "DcwhAQgPJeTX",
        "outputId": "3e4e594e-8a68-42cc-dbcc-1165560f6c7f"
      },
      "source": [
        "print('Who are you?')\r\n",
        "name = input()\r\n",
        "print('Nice to meet you',name)\r\n",
        "print(\"Please tell your age\")\r\n",
        "age = int(input())\r\n",
        "print(age+1)"
      ],
      "execution_count": 11,
      "outputs": [
        {
          "output_type": "stream",
          "text": [
            "Who are you?\n",
            "sartaj\n",
            "Nice to meet you sartaj\n",
            "Please tell your age\n",
            "222\n",
            "223\n"
          ],
          "name": "stdout"
        }
      ]
    },
    {
      "cell_type": "code",
      "metadata": {
        "colab": {
          "base_uri": "https://localhost:8080/"
        },
        "id": "loJeiAsVK2pQ",
        "outputId": "239dfe88-4332-489c-f61d-dbaec9148a20"
      },
      "source": [
        "try:\r\n",
        "  print(\"Type your scores below\")\r\n",
        "  x = float(input())\r\n",
        "  if x <= 100 and x >= 0:\r\n",
        "    if x < 10:\r\n",
        "      print(\"need improvement\")\r\n",
        "    elif x < 20: \r\n",
        "      print(\"not bad\")\r\n",
        "    elif x < 30: \r\n",
        "      print(\"Good\")\r\n",
        "    else :\r\n",
        "      print(\"Outstanding\") \r\n",
        "        \r\n",
        "  else:\r\n",
        "    print(\"Type a valid score.(b/w 0 & 100)\")\r\n",
        "except:\r\n",
        "  print(\"Say NO to Tracebacks\")    "
      ],
      "execution_count": 31,
      "outputs": [
        {
          "output_type": "stream",
          "text": [
            "Type your scores below\n",
            "65\n",
            "Outstanding\n"
          ],
          "name": "stdout"
        }
      ]
    },
    {
      "cell_type": "code",
      "metadata": {
        "colab": {
          "base_uri": "https://localhost:8080/"
        },
        "id": "kWa_Fm_DN8M5",
        "outputId": "3b9a0393-2699-4f0f-f4a4-b40cb484fad8"
      },
      "source": [
        "y = \"wow\"\r\n",
        "try:\r\n",
        "  q = y +\" 1\"\r\n",
        "  print(q)\r\n",
        "except:\r\n",
        "  print(y)"
      ],
      "execution_count": 28,
      "outputs": [
        {
          "output_type": "stream",
          "text": [
            "wow 1\n"
          ],
          "name": "stdout"
        }
      ]
    }
  ]
}